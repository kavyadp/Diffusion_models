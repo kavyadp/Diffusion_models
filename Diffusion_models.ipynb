{
 "cells": [
  {
   "cell_type": "code",
   "execution_count": 1,
   "id": "e3b4a165-d4e7-49ad-811a-9d34305abba5",
   "metadata": {},
   "outputs": [
    {
     "name": "stdout",
     "output_type": "stream",
     "text": [
      "Requirement already satisfied: transformers in c:\\users\\user\\anaconda3\\envs\\custom_yolo\\lib\\site-packages (4.44.0)\n",
      "Requirement already satisfied: diffusers in c:\\users\\user\\anaconda3\\envs\\custom_yolo\\lib\\site-packages (0.30.0)\n",
      "Requirement already satisfied: filelock in c:\\users\\user\\anaconda3\\envs\\custom_yolo\\lib\\site-packages (from transformers) (3.13.4)\n",
      "Requirement already satisfied: huggingface-hub<1.0,>=0.23.2 in c:\\users\\user\\anaconda3\\envs\\custom_yolo\\lib\\site-packages (from transformers) (0.24.5)\n",
      "Requirement already satisfied: numpy>=1.17 in c:\\users\\user\\anaconda3\\envs\\custom_yolo\\lib\\site-packages (from transformers) (1.26.4)\n",
      "Requirement already satisfied: packaging>=20.0 in c:\\users\\user\\anaconda3\\envs\\custom_yolo\\lib\\site-packages (from transformers) (23.2)\n",
      "Requirement already satisfied: pyyaml>=5.1 in c:\\users\\user\\anaconda3\\envs\\custom_yolo\\lib\\site-packages (from transformers) (6.0.1)\n",
      "Requirement already satisfied: regex!=2019.12.17 in c:\\users\\user\\anaconda3\\envs\\custom_yolo\\lib\\site-packages (from transformers) (2024.7.24)\n",
      "Requirement already satisfied: requests in c:\\users\\user\\anaconda3\\envs\\custom_yolo\\lib\\site-packages (from transformers) (2.31.0)\n",
      "Requirement already satisfied: safetensors>=0.4.1 in c:\\users\\user\\anaconda3\\envs\\custom_yolo\\lib\\site-packages (from transformers) (0.4.2)\n",
      "Requirement already satisfied: tokenizers<0.20,>=0.19 in c:\\users\\user\\anaconda3\\envs\\custom_yolo\\lib\\site-packages (from transformers) (0.19.1)\n",
      "Requirement already satisfied: tqdm>=4.27 in c:\\users\\user\\anaconda3\\envs\\custom_yolo\\lib\\site-packages (from transformers) (4.66.2)\n",
      "Requirement already satisfied: importlib-metadata in c:\\users\\user\\anaconda3\\envs\\custom_yolo\\lib\\site-packages (from diffusers) (7.0.1)\n",
      "Requirement already satisfied: Pillow in c:\\users\\user\\anaconda3\\envs\\custom_yolo\\lib\\site-packages (from diffusers) (10.3.0)\n",
      "Requirement already satisfied: fsspec>=2023.5.0 in c:\\users\\user\\anaconda3\\envs\\custom_yolo\\lib\\site-packages (from huggingface-hub<1.0,>=0.23.2->transformers) (2024.3.1)\n",
      "Requirement already satisfied: typing-extensions>=3.7.4.3 in c:\\users\\user\\anaconda3\\envs\\custom_yolo\\lib\\site-packages (from huggingface-hub<1.0,>=0.23.2->transformers) (4.10.0)\n",
      "Requirement already satisfied: colorama in c:\\users\\user\\anaconda3\\envs\\custom_yolo\\lib\\site-packages (from tqdm>=4.27->transformers) (0.4.6)\n",
      "Requirement already satisfied: zipp>=0.5 in c:\\users\\user\\anaconda3\\envs\\custom_yolo\\lib\\site-packages (from importlib-metadata->diffusers) (3.17.0)\n",
      "Requirement already satisfied: charset-normalizer<4,>=2 in c:\\users\\user\\anaconda3\\envs\\custom_yolo\\lib\\site-packages (from requests->transformers) (3.3.2)\n",
      "Requirement already satisfied: idna<4,>=2.5 in c:\\users\\user\\anaconda3\\envs\\custom_yolo\\lib\\site-packages (from requests->transformers) (3.6)\n",
      "Requirement already satisfied: urllib3<3,>=1.21.1 in c:\\users\\user\\anaconda3\\envs\\custom_yolo\\lib\\site-packages (from requests->transformers) (2.2.1)\n",
      "Requirement already satisfied: certifi>=2017.4.17 in c:\\users\\user\\anaconda3\\envs\\custom_yolo\\lib\\site-packages (from requests->transformers) (2024.2.2)\n"
     ]
    },
    {
     "name": "stderr",
     "output_type": "stream",
     "text": [
      "ERROR: Invalid requirement: '#'\n"
     ]
    }
   ],
   "source": [
    "!pip install transformers diffusers\n",
    "!pip install torch # if not already installed\n"
   ]
  },
  {
   "cell_type": "code",
   "execution_count": 8,
   "id": "3a0febcc-0b77-4047-a192-33253bcb49ab",
   "metadata": {},
   "outputs": [
    {
     "name": "stderr",
     "output_type": "stream",
     "text": [
      "Cannot initialize model with low cpu memory usage because `accelerate` was not found in the environment. Defaulting to `low_cpu_mem_usage=False`. It is strongly recommended to install `accelerate` for faster and less memory-intense model loading. You can do so with: \n",
      "```\n",
      "pip install accelerate\n",
      "```\n",
      ".\n"
     ]
    },
    {
     "data": {
      "application/vnd.jupyter.widget-view+json": {
       "model_id": "ae2f3c5048994d44b55bf436ef1d5a31",
       "version_major": 2,
       "version_minor": 0
      },
      "text/plain": [
       "Loading pipeline components...:   0%|          | 0/7 [00:00<?, ?it/s]"
      ]
     },
     "metadata": {},
     "output_type": "display_data"
    },
    {
     "data": {
      "application/vnd.jupyter.widget-view+json": {
       "model_id": "3db27ae5d71b45aea0fc4df32055d47c",
       "version_major": 2,
       "version_minor": 0
      },
      "text/plain": [
       "  0%|          | 0/50 [00:00<?, ?it/s]"
      ]
     },
     "metadata": {},
     "output_type": "display_data"
    }
   ],
   "source": [
    "from diffusers import StableDiffusionPipeline\n",
    "import torch\n",
    "\n",
    "# Load the Stable Diffusion model from Hugging Face\n",
    "model_id = \"CompVis/stable-diffusion-v1-4\"\n",
    "pipe = StableDiffusionPipeline.from_pretrained(model_id, torch_dtype=torch.float16)\n",
    "pipe = pipe.to(\"cuda\")  # Use GPU for faster inference\n",
    "\n",
    "# Define your text prompt\n",
    "prompt = \"A futuristic city skyline at sunset\"\n",
    "\n",
    "# Generate an image\n",
    "image = pipe(prompt).images[0]\n",
    "\n",
    "# Save or display the image\n",
    "image.save(\"compvis_generated_image1.png\")\n",
    "image.show()  # Opens the image in your default viewer\n",
    "\n"
   ]
  },
  {
   "cell_type": "code",
   "execution_count": 3,
   "id": "59dc30a3-3689-40f4-b944-91d715983242",
   "metadata": {},
   "outputs": [
    {
     "name": "stderr",
     "output_type": "stream",
     "text": [
      "Cannot initialize model with low cpu memory usage because `accelerate` was not found in the environment. Defaulting to `low_cpu_mem_usage=False`. It is strongly recommended to install `accelerate` for faster and less memory-intense model loading. You can do so with: \n",
      "```\n",
      "pip install accelerate\n",
      "```\n",
      ".\n"
     ]
    },
    {
     "data": {
      "application/vnd.jupyter.widget-view+json": {
       "model_id": "9d5ab4547312496eb76f59ca2b870dfb",
       "version_major": 2,
       "version_minor": 0
      },
      "text/plain": [
       "Loading pipeline components...:   0%|          | 0/7 [00:00<?, ?it/s]"
      ]
     },
     "metadata": {},
     "output_type": "display_data"
    },
    {
     "data": {
      "application/vnd.jupyter.widget-view+json": {
       "model_id": "a45a8cb53bc64917a12a0a4bc9b2f659",
       "version_major": 2,
       "version_minor": 0
      },
      "text/plain": [
       "  0%|          | 0/50 [00:00<?, ?it/s]"
      ]
     },
     "metadata": {},
     "output_type": "display_data"
    }
   ],
   "source": [
    "from diffusers import StableDiffusionPipeline\n",
    "import torch\n",
    "\n",
    "# Load the Stable Diffusion model from Hugging Face\n",
    "model_id = \"CompVis/stable-diffusion-v1-4\"\n",
    "pipe = StableDiffusionPipeline.from_pretrained(model_id, torch_dtype=torch.float16)\n",
    "pipe = pipe.to(\"cuda\")  # Use GPU for faster inference\n",
    "\n",
    "# Define your text prompt\n",
    "prompt = \"A white shirt with pink floral patterns\"\n",
    "\n",
    "# Generate an image\n",
    "image = pipe(prompt).images[0]\n",
    "\n",
    "# Save or display the image\n",
    "image.save(\"compvis_generated_image2.png\")\n",
    "image.show()  # Opens the image in your default viewer\n"
   ]
  },
  {
   "cell_type": "code",
   "execution_count": 4,
   "id": "106b2a0d-c04a-4e1e-849b-eff539368b93",
   "metadata": {},
   "outputs": [
    {
     "name": "stderr",
     "output_type": "stream",
     "text": [
      "Cannot initialize model with low cpu memory usage because `accelerate` was not found in the environment. Defaulting to `low_cpu_mem_usage=False`. It is strongly recommended to install `accelerate` for faster and less memory-intense model loading. You can do so with: \n",
      "```\n",
      "pip install accelerate\n",
      "```\n",
      ".\n",
      "vae\\diffusion_pytorch_model.safetensors not found\n"
     ]
    },
    {
     "data": {
      "application/vnd.jupyter.widget-view+json": {
       "model_id": "7e608a45ae87453ebf9bad4104d3d9ae",
       "version_major": 2,
       "version_minor": 0
      },
      "text/plain": [
       "Loading pipeline components...:   0%|          | 0/7 [00:00<?, ?it/s]"
      ]
     },
     "metadata": {},
     "output_type": "display_data"
    },
    {
     "name": "stderr",
     "output_type": "stream",
     "text": [
      "An error occurred while trying to fetch C:\\Users\\User\\.cache\\huggingface\\hub\\models--stablediffusionapi--realistic-vision-51\\snapshots\\d8f537e14bc2f845efa10be3c556ad0beb5328d2\\vae: Error no file named diffusion_pytorch_model.safetensors found in directory C:\\Users\\User\\.cache\\huggingface\\hub\\models--stablediffusionapi--realistic-vision-51\\snapshots\\d8f537e14bc2f845efa10be3c556ad0beb5328d2\\vae.\n",
      "Defaulting to unsafe serialization. Pass `allow_pickle=False` to raise an error instead.\n",
      "An error occurred while trying to fetch C:\\Users\\User\\.cache\\huggingface\\hub\\models--stablediffusionapi--realistic-vision-51\\snapshots\\d8f537e14bc2f845efa10be3c556ad0beb5328d2\\unet: Error no file named diffusion_pytorch_model.safetensors found in directory C:\\Users\\User\\.cache\\huggingface\\hub\\models--stablediffusionapi--realistic-vision-51\\snapshots\\d8f537e14bc2f845efa10be3c556ad0beb5328d2\\unet.\n",
      "Defaulting to unsafe serialization. Pass `allow_pickle=False` to raise an error instead.\n",
      "C:\\Users\\User\\anaconda3\\envs\\custom_yolo\\lib\\site-packages\\transformers\\models\\clip\\feature_extraction_clip.py:28: FutureWarning: The class CLIPFeatureExtractor is deprecated and will be removed in version 5 of Transformers. Please use CLIPImageProcessor instead.\n",
      "  warnings.warn(\n"
     ]
    },
    {
     "data": {
      "application/vnd.jupyter.widget-view+json": {
       "model_id": "a1dffd7090414b6e95a0e2dde5c3ab9b",
       "version_major": 2,
       "version_minor": 0
      },
      "text/plain": [
       "  0%|          | 0/50 [00:00<?, ?it/s]"
      ]
     },
     "metadata": {},
     "output_type": "display_data"
    }
   ],
   "source": [
    "from diffusers import StableDiffusionPipeline\n",
    "import torch\n",
    "\n",
    "# Load the Stable Diffusion model from Hugging Face\n",
    "model_id = \"stablediffusionapi/realistic-vision-51\"\n",
    "pipe = StableDiffusionPipeline.from_pretrained(model_id, torch_dtype=torch.float16)\n",
    "pipe = pipe.to(\"cuda\")  # Use GPU for faster inference\n",
    "\n",
    "# Define your text prompt\n",
    "prompt = \"white dress with pink floral patterns\"\n",
    "\n",
    "# Generate an image\n",
    "image = pipe(prompt).images[0]\n",
    "\n",
    "# Save or display the image\n",
    "image.save(\"stabel_generated_image3.png\")\n",
    "image.show()  # Opens the image in your default viewer\n"
   ]
  },
  {
   "cell_type": "code",
   "execution_count": 5,
   "id": "8d2ae6e3-7d87-48a4-ba46-dd52e7e0bb57",
   "metadata": {},
   "outputs": [
    {
     "name": "stderr",
     "output_type": "stream",
     "text": [
      "Cannot initialize model with low cpu memory usage because `accelerate` was not found in the environment. Defaulting to `low_cpu_mem_usage=False`. It is strongly recommended to install `accelerate` for faster and less memory-intense model loading. You can do so with: \n",
      "```\n",
      "pip install accelerate\n",
      "```\n",
      ".\n",
      "vae\\diffusion_pytorch_model.safetensors not found\n"
     ]
    },
    {
     "data": {
      "application/vnd.jupyter.widget-view+json": {
       "model_id": "2edbdbff40b543fcb4e1a49b55c75336",
       "version_major": 2,
       "version_minor": 0
      },
      "text/plain": [
       "Loading pipeline components...:   0%|          | 0/7 [00:00<?, ?it/s]"
      ]
     },
     "metadata": {},
     "output_type": "display_data"
    },
    {
     "name": "stderr",
     "output_type": "stream",
     "text": [
      "An error occurred while trying to fetch C:\\Users\\User\\.cache\\huggingface\\hub\\models--stablediffusionapi--realistic-vision-51\\snapshots\\d8f537e14bc2f845efa10be3c556ad0beb5328d2\\vae: Error no file named diffusion_pytorch_model.safetensors found in directory C:\\Users\\User\\.cache\\huggingface\\hub\\models--stablediffusionapi--realistic-vision-51\\snapshots\\d8f537e14bc2f845efa10be3c556ad0beb5328d2\\vae.\n",
      "Defaulting to unsafe serialization. Pass `allow_pickle=False` to raise an error instead.\n",
      "An error occurred while trying to fetch C:\\Users\\User\\.cache\\huggingface\\hub\\models--stablediffusionapi--realistic-vision-51\\snapshots\\d8f537e14bc2f845efa10be3c556ad0beb5328d2\\unet: Error no file named diffusion_pytorch_model.safetensors found in directory C:\\Users\\User\\.cache\\huggingface\\hub\\models--stablediffusionapi--realistic-vision-51\\snapshots\\d8f537e14bc2f845efa10be3c556ad0beb5328d2\\unet.\n",
      "Defaulting to unsafe serialization. Pass `allow_pickle=False` to raise an error instead.\n"
     ]
    },
    {
     "data": {
      "application/vnd.jupyter.widget-view+json": {
       "model_id": "07b2b2c42cb54879911bdd6cd46535eb",
       "version_major": 2,
       "version_minor": 0
      },
      "text/plain": [
       "  0%|          | 0/50 [00:00<?, ?it/s]"
      ]
     },
     "metadata": {},
     "output_type": "display_data"
    }
   ],
   "source": [
    "from diffusers import StableDiffusionPipeline\n",
    "import torch\n",
    "\n",
    "# Load the Stable Diffusion model from Hugging Face\n",
    "model_id = \"stablediffusionapi/realistic-vision-51\"\n",
    "pipe = StableDiffusionPipeline.from_pretrained(model_id, torch_dtype=torch.float16)\n",
    "pipe = pipe.to(\"cuda\")  # Use GPU for faster inference\n",
    "\n",
    "# Define your text prompt\n",
    "prompt = \"A futuristic city skyline at sunset\"\n",
    "\n",
    "# Generate an image\n",
    "image = pipe(prompt).images[0]\n",
    "\n",
    "# Save or display the image\n",
    "image.save(\"stable_generated_image2.png\")\n",
    "image.show()  # Opens the image in your default viewer"
   ]
  },
  {
   "cell_type": "code",
   "execution_count": 6,
   "id": "97ceac15-01ff-4cd7-8568-8f8e26c61574",
   "metadata": {},
   "outputs": [
    {
     "name": "stderr",
     "output_type": "stream",
     "text": [
      "Cannot initialize model with low cpu memory usage because `accelerate` was not found in the environment. Defaulting to `low_cpu_mem_usage=False`. It is strongly recommended to install `accelerate` for faster and less memory-intense model loading. You can do so with: \n",
      "```\n",
      "pip install accelerate\n",
      "```\n",
      ".\n"
     ]
    },
    {
     "data": {
      "application/vnd.jupyter.widget-view+json": {
       "model_id": "f2a434955e7a4d72819b395fe4b32a51",
       "version_major": 2,
       "version_minor": 0
      },
      "text/plain": [
       "Loading pipeline components...:   0%|          | 0/6 [00:00<?, ?it/s]"
      ]
     },
     "metadata": {},
     "output_type": "display_data"
    },
    {
     "data": {
      "application/vnd.jupyter.widget-view+json": {
       "model_id": "a440f22367794c529193804643f6a4eb",
       "version_major": 2,
       "version_minor": 0
      },
      "text/plain": [
       "  0%|          | 0/50 [00:00<?, ?it/s]"
      ]
     },
     "metadata": {},
     "output_type": "display_data"
    }
   ],
   "source": [
    "from diffusers import StableDiffusionPipeline\n",
    "import torch\n",
    "\n",
    "# Load the latent diffusion model from Hugging Face\n",
    "model_id = \"stabilityai/stable-diffusion-2-1-base\"\n",
    "\n",
    "# Initialize the pipeline\n",
    "pipe = StableDiffusionPipeline.from_pretrained(model_id, torch_dtype=torch.float16)\n",
    "pipe = pipe.to(\"cuda\")  # Use GPU for faster inference\n",
    "\n",
    "# Define your text prompt\n",
    "prompt = \"A futuristic city skyline at sunset\"\n",
    "\n",
    "# Generate an image\n",
    "image = pipe(prompt).images[0]\n",
    "\n",
    "# Save or display the image\n",
    "image.save(\"stable_generated_image1.png\")\n",
    "image.show()  # This will open the image in your default image viewer\n"
   ]
  }
 ],
 "metadata": {
  "kernelspec": {
   "display_name": "custom_yolo",
   "language": "python",
   "name": "custom_yolo"
  },
  "language_info": {
   "codemirror_mode": {
    "name": "ipython",
    "version": 3
   },
   "file_extension": ".py",
   "mimetype": "text/x-python",
   "name": "python",
   "nbconvert_exporter": "python",
   "pygments_lexer": "ipython3",
   "version": "3.9.0"
  }
 },
 "nbformat": 4,
 "nbformat_minor": 5
}
